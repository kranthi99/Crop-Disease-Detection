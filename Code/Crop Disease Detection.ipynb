{
  "nbformat": 4,
  "nbformat_minor": 0,
  "metadata": {
    "colab": {
      "name": "final_model.ipynb",
      "provenance": [],
      "collapsed_sections": []
    },
    "kernelspec": {
      "name": "python3",
      "display_name": "Python 3"
    }
  },
  "cells": [
    {
      "cell_type": "code",
      "metadata": {
        "id": "dNNd_JWH721J",
        "colab_type": "code",
        "colab": {
          "base_uri": "https://localhost:8080/",
          "height": 34
        },
        "outputId": "f70d9535-252c-4f30-b5a7-037b1913df13"
      },
      "source": [
        "# required libraries\n",
        "import numpy as np\n",
        "import pickle\n",
        "import cv2\n",
        "import os\n",
        "from sklearn.preprocessing import LabelBinarizer\n",
        "from keras.models import Sequential \n",
        "from keras.layers.normalization import BatchNormalization \n",
        "from keras.layers.convolutional import Conv2D\n",
        "from keras.layers.convolutional import MaxPooling2D\n",
        "from keras.layers.core import Activation, Flatten, Dropout, Dense\n",
        "from keras import backend as K\n",
        "from keras.preprocessing.image import ImageDataGenerator\n",
        "from keras.optimizers import Adam\n",
        "from keras.preprocessing import image \n",
        "from keras.preprocessing.image import img_to_array\n",
        "from sklearn.preprocessing import MultiLabelBinarizer\n",
        "from sklearn.model_selection import train_test_split \n",
        "import matplotlib.pyplot as plt "
      ],
      "execution_count": null,
      "outputs": [
        {
          "output_type": "stream",
          "text": [
            "Using TensorFlow backend.\n"
          ],
          "name": "stderr"
        }
      ]
    },
    {
      "cell_type": "code",
      "metadata": {
        "id": "xynTv_tO9v3O",
        "colab_type": "code",
        "colab": {
          "base_uri": "https://localhost:8080/",
          "height": 122
        },
        "outputId": "812126b0-3643-4997-94f5-6260f39bd760"
      },
      "source": [
        "# using google drive for dataset fetching\n",
        "from google.colab import drive\n",
        "drive.mount('/content/gdrive')"
      ],
      "execution_count": null,
      "outputs": [
        {
          "output_type": "stream",
          "text": [
            "Go to this URL in a browser: https://accounts.google.com/o/oauth2/auth?client_id=947318989803-6bn6qk8qdgf4n4g3pfee6491hc0brc4i.apps.googleusercontent.com&redirect_uri=urn%3aietf%3awg%3aoauth%3a2.0%3aoob&response_type=code&scope=email%20https%3a%2f%2fwww.googleapis.com%2fauth%2fdocs.test%20https%3a%2f%2fwww.googleapis.com%2fauth%2fdrive%20https%3a%2f%2fwww.googleapis.com%2fauth%2fdrive.photos.readonly%20https%3a%2f%2fwww.googleapis.com%2fauth%2fpeopleapi.readonly\n",
            "\n",
            "Enter your authorization code:\n",
            "··········\n",
            "Mounted at /content/gdrive\n"
          ],
          "name": "stdout"
        }
      ]
    },
    {
      "cell_type": "code",
      "metadata": {
        "id": "eFDTykvW_Pdt",
        "colab_type": "code",
        "colab": {}
      },
      "source": [
        "# image directory\n",
        "image_directory = '/content/gdrive/My Drive/Custom-Train-Test(color)/color'"
      ],
      "execution_count": null,
      "outputs": []
    },
    {
      "cell_type": "code",
      "metadata": {
        "id": "kddXbQb0B3rL",
        "colab_type": "code",
        "colab": {}
      },
      "source": [
        "# taking each image and converting to numpy array\n",
        "def convert_image_to_array(path):\n",
        "  try:\n",
        "    # print(path)\n",
        "    image = cv2.imread(path)\n",
        "    if(image is not None):\n",
        "      image = cv2.resize(image,(256,256))\n",
        "      return img_to_array(image)\n",
        "    else:\n",
        "      return np.array([])\n",
        "  except Exception as e:\n",
        "    print(f\"Error : {e}\")\n",
        "    return None"
      ],
      "execution_count": null,
      "outputs": []
    },
    {
      "cell_type": "code",
      "metadata": {
        "id": "zkTcr9ST_0a-",
        "colab_type": "code",
        "colab": {}
      },
      "source": [
        "# image preprocessing \n",
        "image_list = []\n",
        "label_list = []\n",
        "for directory in os.listdir(image_directory):\n",
        "  path = os.path.join(image_directory,directory)\n",
        "  for photo in os.listdir(path)[:200]:\n",
        "    image_list.append(convert_image_to_array(os.path.join(path,photo)))\n",
        "    label_list.append(directory)"
      ],
      "execution_count": null,
      "outputs": []
    },
    {
      "cell_type": "code",
      "metadata": {
        "id": "ImuNtwu1_5um",
        "colab_type": "code",
        "colab": {}
      },
      "source": [
        "# intialization of class label\n",
        "label_binarizer = LabelBinarizer()\n",
        "image_labels = label_binarizer.fit_transform(label_list)\n",
        "pickle.dump(label_binarizer,open(\"label_transform.pkl\",\"wb\"))\n",
        "n_classes = len(label_binarizer.classes_)"
      ],
      "execution_count": null,
      "outputs": []
    },
    {
      "cell_type": "code",
      "metadata": {
        "id": "nqhEJoDvJ9Ul",
        "colab_type": "code",
        "colab": {}
      },
      "source": [
        "# converting to gray scale\n",
        "np_image_list = np.array(image_list,dtype=np.float16)/255.0"
      ],
      "execution_count": null,
      "outputs": []
    },
    {
      "cell_type": "code",
      "metadata": {
        "id": "hl0UgNLxKez0",
        "colab_type": "code",
        "colab": {}
      },
      "source": [
        "# spliting data to test and train in 1:4 ratio\n",
        "x_train,x_test,y_train,y_test = train_test_split(np_image_list,image_labels,test_size=0.2,random_state=42)"
      ],
      "execution_count": null,
      "outputs": []
    },
    {
      "cell_type": "code",
      "metadata": {
        "id": "Lq5DuA7QKgMF",
        "colab_type": "code",
        "colab": {}
      },
      "source": [
        "# image datagenerator that rotates,flip,shift,zoom the image\n",
        "aug = ImageDataGenerator(\n",
        "    rotation_range=25,\n",
        "    width_shift_range=0.1,\n",
        "    height_shift_range=0.1,\n",
        "    shear_range=0.2,\n",
        "    zoom_range=0.2,\n",
        "    horizontal_flip=True,\n",
        "    fill_mode=\"nearest\"\n",
        ")"
      ],
      "execution_count": null,
      "outputs": []
    },
    {
      "cell_type": "code",
      "metadata": {
        "id": "U78Sn5djNgtu",
        "colab_type": "code",
        "colab": {}
      },
      "source": [
        "# image parameters\n",
        "height=256\n",
        "width=256\n",
        "depth=3"
      ],
      "execution_count": null,
      "outputs": []
    },
    {
      "cell_type": "code",
      "metadata": {
        "id": "YIwl4FtIN1S_",
        "colab_type": "code",
        "colab": {}
      },
      "source": [
        "# neural network\n",
        "model = Sequential()\n",
        "inputshape = (height,width,depth)\n",
        "chandim=-1\n",
        "if(K.image_data_format()==\"channels_first\"):\n",
        "  inputshape = (depth,height,width)\n",
        "  chandim=1\n",
        "# layer-1\n",
        "model.add(Conv2D(32,(3,3),padding=\"same\",input_shape=inputshape))\n",
        "model.add(Activation(\"relu\"))\n",
        "model.add(BatchNormalization(axis=chandim))\n",
        "model.add(MaxPooling2D(pool_size=(3,3)))\n",
        "model.add(Dropout(0.25))\n",
        "\n",
        "# layer-2\n",
        "model.add(Conv2D(64,(3,3),padding=\"same\"))\n",
        "model.add(Activation(\"relu\"))\n",
        "model.add(BatchNormalization(axis=chandim))\n",
        "\n",
        "#layer-3\n",
        "model.add(Conv2D(64,(3,3),padding=\"same\",input_shape=inputshape))\n",
        "model.add(Activation(\"relu\"))\n",
        "model.add(BatchNormalization(axis=chandim))\n",
        "model.add(MaxPooling2D(pool_size=(3,3)))\n",
        "model.add(Dropout(0.25))\n",
        "\n",
        "# layer-4\n",
        "model.add(Conv2D(128,(3,3),padding=\"same\"))\n",
        "model.add(Activation(\"relu\"))\n",
        "model.add(BatchNormalization(axis=chandim))\n",
        "\n",
        "# layer-5\n",
        "model.add(Conv2D(128,(3,3),padding=\"same\",input_shape=inputshape))\n",
        "model.add(Activation(\"relu\"))\n",
        "model.add(BatchNormalization(axis=chandim))\n",
        "model.add(MaxPooling2D(pool_size=(3,3)))\n",
        "model.add(Dropout(0.25))\n",
        "\n",
        "# layer-6 ANN\n",
        "model.add(Flatten())\n",
        "model.add(Dense(1024))\n",
        "model.add(Activation(\"relu\"))\n",
        "model.add(BatchNormalization())\n",
        "model.add(Dropout(0.5))\n",
        "model.add(Dense(n_classes))\n",
        "model.add(Activation(\"softmax\"))"
      ],
      "execution_count": null,
      "outputs": []
    },
    {
      "cell_type": "code",
      "metadata": {
        "id": "sn6xqLezZ8fx",
        "colab_type": "code",
        "colab": {}
      },
      "source": [
        "# optimization parameters\n",
        "INIT_LR = 0.001\n",
        "EPOCHS = 10\n",
        "BS=10"
      ],
      "execution_count": null,
      "outputs": []
    },
    {
      "cell_type": "code",
      "metadata": {
        "id": "0b24GpS2Xxz6",
        "colab_type": "code",
        "colab": {
          "base_uri": "https://localhost:8080/",
          "height": 34
        },
        "outputId": "b272e98a-0f58-4025-a330-c0b56cfecc46"
      },
      "source": [
        "# model compilation\n",
        "opt = Adam(lr=INIT_LR,decay=INIT_LR/EPOCHS)\n",
        "model.compile(loss=\"binary_crossentropy\",optimizer=opt,metrics=[\"accuracy\"])\n",
        "print(\"[INFO]  training network\")"
      ],
      "execution_count": null,
      "outputs": [
        {
          "output_type": "stream",
          "text": [
            "[INFO]  training network\n"
          ],
          "name": "stdout"
        }
      ]
    },
    {
      "cell_type": "code",
      "metadata": {
        "id": "lVMOHk9dYsFO",
        "colab_type": "code",
        "colab": {
          "base_uri": "https://localhost:8080/",
          "height": 357
        },
        "outputId": "f05b2bf8-36e2-474b-ba8e-74b54eff36c5"
      },
      "source": [
        "# model training with 10 epochs\n",
        "history = model.fit_generator(\n",
        "    aug.flow(x_train,y_train,batch_size=BS),\n",
        "    validation_data = (x_test,y_test),\n",
        "    steps_per_epoch=len(x_train)//BS,\n",
        "    epochs=EPOCHS,\n",
        "    verbose=1\n",
        ")"
      ],
      "execution_count": null,
      "outputs": [
        {
          "output_type": "stream",
          "text": [
            "Epoch 1/10\n",
            "393/393 [==============================] - 747s 2s/step - loss: 0.1441 - accuracy: 0.9580 - val_loss: 0.4051 - val_accuracy: 0.9309\n",
            "Epoch 2/10\n",
            "393/393 [==============================] - 746s 2s/step - loss: 0.1413 - accuracy: 0.9581 - val_loss: 0.2104 - val_accuracy: 0.9446\n",
            "Epoch 3/10\n",
            "393/393 [==============================] - 741s 2s/step - loss: 0.1161 - accuracy: 0.9628 - val_loss: 0.2492 - val_accuracy: 0.9492\n",
            "Epoch 4/10\n",
            "393/393 [==============================] - 740s 2s/step - loss: 0.1046 - accuracy: 0.9657 - val_loss: 0.1161 - val_accuracy: 0.9641\n",
            "Epoch 5/10\n",
            "393/393 [==============================] - 747s 2s/step - loss: 0.0937 - accuracy: 0.9679 - val_loss: 0.6175 - val_accuracy: 0.9304\n",
            "Epoch 6/10\n",
            "393/393 [==============================] - 760s 2s/step - loss: 0.0853 - accuracy: 0.9704 - val_loss: 0.3366 - val_accuracy: 0.9415\n",
            "Epoch 7/10\n",
            "393/393 [==============================] - 742s 2s/step - loss: 0.0796 - accuracy: 0.9719 - val_loss: 0.0692 - val_accuracy: 0.9758\n",
            "Epoch 8/10\n",
            "393/393 [==============================] - 742s 2s/step - loss: 0.0732 - accuracy: 0.9741 - val_loss: 0.0523 - val_accuracy: 0.9820\n",
            "Epoch 9/10\n",
            "393/393 [==============================] - 741s 2s/step - loss: 0.0747 - accuracy: 0.9734 - val_loss: 0.1356 - val_accuracy: 0.9591\n",
            "Epoch 10/10\n",
            "393/393 [==============================] - 739s 2s/step - loss: 0.0701 - accuracy: 0.9749 - val_loss: 0.0777 - val_accuracy: 0.9745\n"
          ],
          "name": "stdout"
        }
      ]
    },
    {
      "cell_type": "code",
      "metadata": {
        "id": "SVBs_SBxa6rQ",
        "colab_type": "code",
        "colab": {
          "base_uri": "https://localhost:8080/",
          "height": 545
        },
        "outputId": "6cb4376f-0757-4da3-8b31-43239e72eb74"
      },
      "source": [
        "# model training outcomes\n",
        "acc = history.history['accuracy']\n",
        "val_accuracy = history.history['val_accuracy']\n",
        "loss = history.history['loss']\n",
        "val_loss = history.history['val_loss']\n",
        "epochs = range(1, len(acc) + 1)\n",
        "\n",
        "#plot against the Train and validation accuracy\n",
        "plt.plot(epochs, acc, 'b', label='Training accurarcy')\n",
        "plt.plot(epochs, val_accuracy, 'r', label='Validation accurarcy')\n",
        "plt.title('Training and Validation accurarcy')\n",
        "plt.legend()\n",
        "plt.figure()\n",
        "\n",
        "#plot against the Train and validation loss\n",
        "plt.plot(epochs, loss, 'b', label='Training loss')\n",
        "plt.plot(epochs, val_loss, 'r', label='Validation loss')\n",
        "plt.title('Training and Validation loss')\n",
        "plt.legend()\n",
        "plt.show()"
      ],
      "execution_count": null,
      "outputs": [
        {
          "output_type": "display_data",
          "data": {
            "image/png": "[encoded data removed]",
            "text/plain": [
              "<Figure size 432x288 with 1 Axes>"
            ]
          },
          "metadata": {
            "tags": [],
            "needs_background": "light"
          }
        },
        {
          "output_type": "display_data",
          "data": {
            "image/png": "[encoded data removed]",
            "text/plain": [
              "<Figure size 432x288 with 1 Axes>"
            ]
          },
          "metadata": {
            "tags": [],
            "needs_background": "light"
          }
        }
      ]
    },
    {
      "cell_type": "code",
      "metadata": {
        "id": "I9t3bxf-_Dcp",
        "colab_type": "code",
        "colab": {
          "base_uri": "https://localhost:8080/",
          "height": 68
        },
        "outputId": "d898929d-e809-47bc-fa8e-2f0d8bc2d6e9"
      },
      "source": [
        "print(\"[INFO] Calculating model accuracy\")\n",
        "accurate = model.evaluate(x_test, y_test)\n",
        "print(f\"Test Accuracy: {accurate[1]*100}\")"
      ],
      "execution_count": null,
      "outputs": [
        {
          "output_type": "stream",
          "text": [
            "[INFO] Calculating model accuracy\n",
            "985/985 [==============================] - 49s 50ms/step\n",
            "Test Accuracy: 97.4538266658783\n"
          ],
          "name": "stdout"
        }
      ]
    },
    {
      "cell_type": "code",
      "metadata": {
        "id": "_ZtEIdap_qD9",
        "colab_type": "code",
        "colab": {
          "base_uri": "https://localhost:8080/",
          "height": 34
        },
        "outputId": "18cd8840-228f-4b05-9d90-10820ddd6a09"
      },
      "source": [
        "# predicting for the disease for single image\n",
        "x = os.path.join(image_directory, \"Tomato___Bacterial_spot\")\n",
        "image_name = os.listdir(x)[1]\n",
        "image_loc = os.path.join(x,image_name)\n",
        "image = convert_image_to_array(image_loc)\n",
        "image = np.array(image,dtype=np.float16)/255.0\n",
        "image = np.expand_dims(image,axis=0)\n",
        "op = model.predict(image)\n",
        "sorting = (-op).argsort()\n",
        "your_classes = label_binarizer.classes_\n",
        "sorted_ = sorting[0][:1]\n",
        "for value in sorted_:\n",
        "    predicted_label = your_classes[value]\n",
        "    print(predicted_label)"
      ],
      "execution_count": null,
      "outputs": [
        {
          "output_type": "stream",
          "text": [
            "Apple___Cedar_apple_rust\n"
          ],
          "name": "stdout"
        }
      ]
    }
  ]
}